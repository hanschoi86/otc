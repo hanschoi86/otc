{
 "cells": [
  {
   "cell_type": "code",
   "execution_count": 1,
   "metadata": {},
   "outputs": [
    {
     "data": {
      "text/plain": [
       "0"
      ]
     },
     "execution_count": 1,
     "metadata": {},
     "output_type": "execute_result"
    }
   ],
   "source": [
    "from __future__ import absolute_import\n",
    "from __future__ import division\n",
    "from __future__ import print_function\n",
    "\n",
    "import math\n",
    "\n",
    "from obstacle_tower_env import ObstacleTowerEnv, ActionFlattener\n",
    "\n",
    "import numpy as np\n",
    "import tensorflow as tf\n",
    "from tensorflow.contrib.slim.nets import resnet_v2\n",
    "\n",
    "import gin.tf\n",
    "import logging\n",
    "from PIL import Image\n",
    "import itertools\n",
    "import gym\n",
    "import numpy as np\n",
    "from mlagents_envs import UnityEnvironment\n",
    "from gym import error, spaces\n",
    "import os\n",
    "\n",
    "import tensorflow as tf\n",
    "from stable_baselines.a2c.utils import conv, linear, conv_to_fc, batch_to_seq, seq_to_batch, lstm\n",
    "os.system(\"export CUDA_VISIBLE_DEVICES=1\")"
   ]
  },
  {
   "cell_type": "code",
   "execution_count": 2,
   "metadata": {},
   "outputs": [
    {
     "name": "stderr",
     "output_type": "stream",
     "text": [
      "INFO:gym_unity:1 agents within environment.\n"
     ]
    }
   ],
   "source": [
    "environment_path = 'ObstacleTower/obstacletower'\n",
    "env_config = {\"total-floors\": 15, \"dense-reward\": 1, \"starting-floor\": 0}\n",
    "env = ObstacleTowerEnv(environment_path, worker_id=np.random.randint(100, 300), retro=True, config=env_config, greyscale=True,\n",
    "                      realtime_mode=False)\n",
    "#env._flattener = ActionFlattener([2, 3, 2, 1])\n",
    "#env._action_space = env._flattener.action_space\n",
    "\n"
   ]
  },
  {
   "cell_type": "code",
   "execution_count": 3,
   "metadata": {},
   "outputs": [],
   "source": [
    "env.reset()\n",
    "\n",
    "obs, reward, done, info = env.step(1)"
   ]
  },
  {
   "cell_type": "code",
   "execution_count": 5,
   "metadata": {},
   "outputs": [
    {
     "data": {
      "text/plain": [
       "0"
      ]
     },
     "execution_count": 5,
     "metadata": {},
     "output_type": "execute_result"
    }
   ],
   "source": []
  },
  {
   "cell_type": "code",
   "execution_count": 37,
   "metadata": {},
   "outputs": [],
   "source": [
    "brain = env._env.brains[env.brain_name]"
   ]
  },
  {
   "cell_type": "code",
   "execution_count": 40,
   "metadata": {},
   "outputs": [
    {
     "data": {
      "text/plain": [
       "[{'height': 168, 'width': 168, 'blackAndWhite': False}]"
      ]
     },
     "execution_count": 40,
     "metadata": {},
     "output_type": "execute_result"
    }
   ],
   "source": [
    "brain.camera_resolutions"
   ]
  },
  {
   "cell_type": "code",
   "execution_count": 47,
   "metadata": {},
   "outputs": [
    {
     "data": {
      "text/plain": [
       "['SCALAR_ACTION_TYPES',\n",
       " 'SINGLE_BRAIN_ACTION_TYPES',\n",
       " 'SINGLE_BRAIN_TEXT_TYPES',\n",
       " '__class__',\n",
       " '__delattr__',\n",
       " '__dict__',\n",
       " '__dir__',\n",
       " '__doc__',\n",
       " '__eq__',\n",
       " '__format__',\n",
       " '__ge__',\n",
       " '__getattribute__',\n",
       " '__gt__',\n",
       " '__hash__',\n",
       " '__init__',\n",
       " '__init_subclass__',\n",
       " '__le__',\n",
       " '__lt__',\n",
       " '__module__',\n",
       " '__ne__',\n",
       " '__new__',\n",
       " '__reduce__',\n",
       " '__reduce_ex__',\n",
       " '__repr__',\n",
       " '__setattr__',\n",
       " '__sizeof__',\n",
       " '__str__',\n",
       " '__subclasshook__',\n",
       " '__weakref__',\n",
       " '_academy_name',\n",
       " '_brain_names',\n",
       " '_brains',\n",
       " '_buffer_size',\n",
       " '_close',\n",
       " '_external_brain_names',\n",
       " '_flatten',\n",
       " '_generate_reset_input',\n",
       " '_generate_step_input',\n",
       " '_get_state',\n",
       " '_global_done',\n",
       " '_loaded',\n",
       " '_log_path',\n",
       " '_n_agents',\n",
       " '_num_brains',\n",
       " '_num_external_brains',\n",
       " '_resetParameters',\n",
       " '_unity_version',\n",
       " '_version_',\n",
       " 'academy_name',\n",
       " 'brain_names',\n",
       " 'brains',\n",
       " 'close',\n",
       " 'communicator',\n",
       " 'executable_launcher',\n",
       " 'external_brain_names',\n",
       " 'global_done',\n",
       " 'logfile_path',\n",
       " 'number_brains',\n",
       " 'number_external_brains',\n",
       " 'port',\n",
       " 'proc1',\n",
       " 'reset',\n",
       " 'send_academy_parameters',\n",
       " 'step',\n",
       " 'wrap_unity_input']"
      ]
     },
     "execution_count": 47,
     "metadata": {},
     "output_type": "execute_result"
    }
   ],
   "source": [
    "dir(env._env)"
   ]
  },
  {
   "cell_type": "code",
   "execution_count": 52,
   "metadata": {},
   "outputs": [
    {
     "data": {
      "text/plain": [
       "{'allowed-rooms': 2.0,\n",
       " 'dense-reward': 1.0,\n",
       " 'total-floors': 100.0,\n",
       " 'agent-perspective': 1.0,\n",
       " 'tower-seed': -1.0,\n",
       " 'default-theme': 0.0,\n",
       " 'allowed-floors': 2.0,\n",
       " 'allowed-modules': 2.0,\n",
       " 'lighting-type': 1.0,\n",
       " 'starting-floor': 0.0,\n",
       " 'visual-theme': 1.0}"
      ]
     },
     "execution_count": 52,
     "metadata": {},
     "output_type": "execute_result"
    }
   ],
   "source": [
    "env._env._resetParameters"
   ]
  },
  {
   "cell_type": "code",
   "execution_count": null,
   "metadata": {},
   "outputs": [],
   "source": []
  },
  {
   "cell_type": "code",
   "execution_count": null,
   "metadata": {},
   "outputs": [],
   "source": []
  },
  {
   "cell_type": "code",
   "execution_count": null,
   "metadata": {},
   "outputs": [],
   "source": []
  },
  {
   "cell_type": "code",
   "execution_count": null,
   "metadata": {},
   "outputs": [],
   "source": []
  },
  {
   "cell_type": "code",
   "execution_count": null,
   "metadata": {},
   "outputs": [],
   "source": []
  },
  {
   "cell_type": "code",
   "execution_count": null,
   "metadata": {},
   "outputs": [],
   "source": [
    "obs = env.reset()"
   ]
  },
  {
   "cell_type": "code",
   "execution_count": 20,
   "metadata": {},
   "outputs": [],
   "source": [
    "next_obs, reward, done, info = env.step(1)"
   ]
  },
  {
   "cell_type": "code",
   "execution_count": 12,
   "metadata": {},
   "outputs": [],
   "source": [
    "obs  = obs /  255."
   ]
  },
  {
   "cell_type": "code",
   "execution_count": 5,
   "metadata": {},
   "outputs": [],
   "source": [
    "key = info['brain_info'].vector_observations"
   ]
  },
  {
   "cell_type": "code",
   "execution_count": 7,
   "metadata": {},
   "outputs": [
    {
     "data": {
      "text/plain": [
       "array([[1.        , 0.        , 0.        , 0.        , 0.        ,\n",
       "        0.        , 0.99833333, 0.        ]])"
      ]
     },
     "execution_count": 7,
     "metadata": {},
     "output_type": "execute_result"
    }
   ],
   "source": [
    "key[-1, -2] /= 3000\n",
    "key"
   ]
  },
  {
   "cell_type": "code",
   "execution_count": 8,
   "metadata": {},
   "outputs": [],
   "source": [
    "new = np.append(obs, [1, 0, 0, 0, 0, 0, 3000, 0])\n",
    "new = new.reshape(1, 7064,)\n",
    "new = np.append(new, new, axis=0)"
   ]
  },
  {
   "cell_type": "code",
   "execution_count": 45,
   "metadata": {},
   "outputs": [
    {
     "data": {
      "text/plain": [
       "(2, 7064)"
      ]
     },
     "execution_count": 45,
     "metadata": {},
     "output_type": "execute_result"
    }
   ],
   "source": [
    "new.shape"
   ]
  },
  {
   "cell_type": "code",
   "execution_count": null,
   "metadata": {},
   "outputs": [],
   "source": []
  },
  {
   "cell_type": "code",
   "execution_count": 10,
   "metadata": {},
   "outputs": [],
   "source": [
    "inpobs = obs.reshape(1, 84, 84, 1)\n",
    "inp = np.append(inpobs, inpobs, axis=0)"
   ]
  },
  {
   "cell_type": "code",
   "execution_count": 11,
   "metadata": {},
   "outputs": [
    {
     "data": {
      "text/plain": [
       "(2, 84, 84, 1)"
      ]
     },
     "execution_count": 11,
     "metadata": {},
     "output_type": "execute_result"
    }
   ],
   "source": [
    "inp.shape"
   ]
  },
  {
   "cell_type": "code",
   "execution_count": 103,
   "metadata": {},
   "outputs": [],
   "source": [
    "place = tf.placeholder(dtype=tf.float32, shape=(None, 84, 84, 1))"
   ]
  },
  {
   "cell_type": "code",
   "execution_count": 104,
   "metadata": {},
   "outputs": [],
   "source": [
    "obs = tf.placeholder(dtype=tf.float32, shape=(None,7064,))"
   ]
  },
  {
   "cell_type": "code",
   "execution_count": 110,
   "metadata": {},
   "outputs": [],
   "source": [
    "scaled = tf.slice(obs, [0, 0], [-1, 84*84])"
   ]
  },
  {
   "cell_type": "code",
   "execution_count": 111,
   "metadata": {},
   "outputs": [
    {
     "data": {
      "text/plain": [
       "(TensorShape([Dimension(None), Dimension(84), Dimension(84), Dimension(1)]),\n",
       " TensorShape([Dimension(None), Dimension(7064)]),\n",
       " TensorShape([Dimension(None), Dimension(7056)]))"
      ]
     },
     "execution_count": 111,
     "metadata": {},
     "output_type": "execute_result"
    }
   ],
   "source": [
    "place.shape, obs.shape, scaled.shape"
   ]
  },
  {
   "cell_type": "code",
   "execution_count": 112,
   "metadata": {},
   "outputs": [
    {
     "data": {
      "text/plain": [
       "<tf.Tensor 'Reshape_8:0' shape=(?, 84, 84, 1) dtype=float32>"
      ]
     },
     "execution_count": 112,
     "metadata": {},
     "output_type": "execute_result"
    }
   ],
   "source": [
    "tf.reshape(scaled, shape=(-1, 84, 84, 1))"
   ]
  },
  {
   "cell_type": "code",
   "execution_count": 113,
   "metadata": {},
   "outputs": [],
   "source": [
    "keys = tf.slice(obs, [0, 84*84], [-1, -1])"
   ]
  },
  {
   "cell_type": "code",
   "execution_count": 114,
   "metadata": {},
   "outputs": [
    {
     "data": {
      "text/plain": [
       "<tf.Tensor 'Slice_14:0' shape=(?, 8) dtype=float32>"
      ]
     },
     "execution_count": 114,
     "metadata": {},
     "output_type": "execute_result"
    }
   ],
   "source": [
    "keys"
   ]
  },
  {
   "cell_type": "code",
   "execution_count": 116,
   "metadata": {},
   "outputs": [
    {
     "data": {
      "text/plain": [
       "<tf.Tensor 'Placeholder_9:0' shape=(?, 3136) dtype=float32>"
      ]
     },
     "execution_count": 116,
     "metadata": {},
     "output_type": "execute_result"
    }
   ],
   "source": [
    "layer = tf.placeholder(dtype=tf.float32, shape=(None,3136))\n",
    "layer"
   ]
  },
  {
   "cell_type": "code",
   "execution_count": 117,
   "metadata": {},
   "outputs": [
    {
     "data": {
      "text/plain": [
       "<tf.Tensor 'Slice_14:0' shape=(?, 8) dtype=float32>"
      ]
     },
     "execution_count": 117,
     "metadata": {},
     "output_type": "execute_result"
    }
   ],
   "source": [
    "keys"
   ]
  },
  {
   "cell_type": "code",
   "execution_count": 129,
   "metadata": {},
   "outputs": [
    {
     "data": {
      "text/plain": [
       "(7064,)"
      ]
     },
     "execution_count": 129,
     "metadata": {},
     "output_type": "execute_result"
    }
   ],
   "source": [
    "tuple((7064,))"
   ]
  },
  {
   "cell_type": "code",
   "execution_count": null,
   "metadata": {},
   "outputs": [],
   "source": []
  },
  {
   "cell_type": "code",
   "execution_count": 14,
   "metadata": {},
   "outputs": [],
   "source": [
    "from gym.spaces.box import Box"
   ]
  },
  {
   "cell_type": "code",
   "execution_count": 25,
   "metadata": {},
   "outputs": [],
   "source": [
    "def nature_cnn(scaled_images, **kwargs):\n",
    "    \"\"\"\n",
    "    CNN from Nature paper.\n",
    "    :param scaled_images: (TensorFlow Tensor) Image input placeholder\n",
    "    :param kwargs: (dict) Extra keywords parameters for the convolutional layers of the CNN\n",
    "    :return: (TensorFlow Tensor) The CNN output layer\n",
    "    \"\"\"\n",
    "    activ = tf.nn.relu\n",
    "    layer_1 = activ(conv(scaled_images, 'c1', n_filters=32, filter_size=8, stride=4, init_scale=np.sqrt(2), **kwargs))\n",
    "    layer_2 = activ(conv(layer_1, 'c2', n_filters=64, filter_size=4, stride=2, init_scale=np.sqrt(2), **kwargs))\n",
    "    layer_3 = activ(conv(layer_2, 'c3', n_filters=64, filter_size=3, stride=1, init_scale=np.sqrt(2), **kwargs))\n",
    "    layer_3 = conv_to_fc(layer_3)\n",
    "    return activ(linear(layer_3, 'fc1', n_hidden=512, init_scale=np.sqrt(2)))"
   ]
  },
  {
   "cell_type": "code",
   "execution_count": 27,
   "metadata": {},
   "outputs": [],
   "source": [
    "sess.close()"
   ]
  },
  {
   "cell_type": "code",
   "execution_count": 26,
   "metadata": {},
   "outputs": [
    {
     "ename": "ValueError",
     "evalue": "Variable c1/w already exists, disallowed. Did you mean to set reuse=True or reuse=tf.AUTO_REUSE in VarScope? Originally defined at:\n\n  File \"/anaconda3/envs/otc/lib/python3.6/site-packages/stable_baselines/a2c/utils.py\", line 127, in conv\n    weight = tf.get_variable(\"w\", wshape, initializer=ortho_init(init_scale))\n  File \"<ipython-input-12-50c6e1640ddc>\", line 3, in <module>\n    layer_1 = activ(conv(obs_tensor, 'c1', n_filters=32, filter_size=8, stride=4, init_scale=np.sqrt(2)))\n  File \"/anaconda3/envs/otc/lib/python3.6/site-packages/IPython/core/interactiveshell.py\", line 3296, in run_code\n    exec(code_obj, self.user_global_ns, self.user_ns)\n",
     "output_type": "error",
     "traceback": [
      "\u001b[0;31m---------------------------------------------------------------------------\u001b[0m",
      "\u001b[0;31mValueError\u001b[0m                                Traceback (most recent call last)",
      "\u001b[0;32m<ipython-input-26-280a3e8ac8b8>\u001b[0m in \u001b[0;36m<module>\u001b[0;34m\u001b[0m\n\u001b[1;32m      1\u001b[0m \u001b[0;32mwith\u001b[0m \u001b[0mtf\u001b[0m\u001b[0;34m.\u001b[0m\u001b[0mSession\u001b[0m\u001b[0;34m(\u001b[0m\u001b[0;34m)\u001b[0m \u001b[0;32mas\u001b[0m \u001b[0msess\u001b[0m\u001b[0;34m:\u001b[0m\u001b[0;34m\u001b[0m\u001b[0;34m\u001b[0m\u001b[0m\n\u001b[0;32m----> 2\u001b[0;31m     \u001b[0msess\u001b[0m\u001b[0;34m.\u001b[0m\u001b[0mrun\u001b[0m\u001b[0;34m(\u001b[0m\u001b[0mnature_cnn\u001b[0m\u001b[0;34m(\u001b[0m\u001b[0mobs_tensor\u001b[0m\u001b[0;34m)\u001b[0m\u001b[0;34m,\u001b[0m \u001b[0mfeed_dict\u001b[0m\u001b[0;34m=\u001b[0m\u001b[0;34m{\u001b[0m\u001b[0mobs_tensor\u001b[0m\u001b[0;34m:\u001b[0m\u001b[0minp\u001b[0m\u001b[0;34m}\u001b[0m\u001b[0;34m)\u001b[0m\u001b[0;34m\u001b[0m\u001b[0;34m\u001b[0m\u001b[0m\n\u001b[0m",
      "\u001b[0;32m<ipython-input-25-65877f20465c>\u001b[0m in \u001b[0;36mnature_cnn\u001b[0;34m(scaled_images, **kwargs)\u001b[0m\n\u001b[1;32m      7\u001b[0m     \"\"\"\n\u001b[1;32m      8\u001b[0m     \u001b[0mactiv\u001b[0m \u001b[0;34m=\u001b[0m \u001b[0mtf\u001b[0m\u001b[0;34m.\u001b[0m\u001b[0mnn\u001b[0m\u001b[0;34m.\u001b[0m\u001b[0mrelu\u001b[0m\u001b[0;34m\u001b[0m\u001b[0;34m\u001b[0m\u001b[0m\n\u001b[0;32m----> 9\u001b[0;31m     \u001b[0mlayer_1\u001b[0m \u001b[0;34m=\u001b[0m \u001b[0mactiv\u001b[0m\u001b[0;34m(\u001b[0m\u001b[0mconv\u001b[0m\u001b[0;34m(\u001b[0m\u001b[0mscaled_images\u001b[0m\u001b[0;34m,\u001b[0m \u001b[0;34m'c1'\u001b[0m\u001b[0;34m,\u001b[0m \u001b[0mn_filters\u001b[0m\u001b[0;34m=\u001b[0m\u001b[0;36m32\u001b[0m\u001b[0;34m,\u001b[0m \u001b[0mfilter_size\u001b[0m\u001b[0;34m=\u001b[0m\u001b[0;36m8\u001b[0m\u001b[0;34m,\u001b[0m \u001b[0mstride\u001b[0m\u001b[0;34m=\u001b[0m\u001b[0;36m4\u001b[0m\u001b[0;34m,\u001b[0m \u001b[0minit_scale\u001b[0m\u001b[0;34m=\u001b[0m\u001b[0mnp\u001b[0m\u001b[0;34m.\u001b[0m\u001b[0msqrt\u001b[0m\u001b[0;34m(\u001b[0m\u001b[0;36m2\u001b[0m\u001b[0;34m)\u001b[0m\u001b[0;34m,\u001b[0m \u001b[0;34m**\u001b[0m\u001b[0mkwargs\u001b[0m\u001b[0;34m)\u001b[0m\u001b[0;34m)\u001b[0m\u001b[0;34m\u001b[0m\u001b[0;34m\u001b[0m\u001b[0m\n\u001b[0m\u001b[1;32m     10\u001b[0m     \u001b[0mlayer_2\u001b[0m \u001b[0;34m=\u001b[0m \u001b[0mactiv\u001b[0m\u001b[0;34m(\u001b[0m\u001b[0mconv\u001b[0m\u001b[0;34m(\u001b[0m\u001b[0mlayer_1\u001b[0m\u001b[0;34m,\u001b[0m \u001b[0;34m'c2'\u001b[0m\u001b[0;34m,\u001b[0m \u001b[0mn_filters\u001b[0m\u001b[0;34m=\u001b[0m\u001b[0;36m64\u001b[0m\u001b[0;34m,\u001b[0m \u001b[0mfilter_size\u001b[0m\u001b[0;34m=\u001b[0m\u001b[0;36m4\u001b[0m\u001b[0;34m,\u001b[0m \u001b[0mstride\u001b[0m\u001b[0;34m=\u001b[0m\u001b[0;36m2\u001b[0m\u001b[0;34m,\u001b[0m \u001b[0minit_scale\u001b[0m\u001b[0;34m=\u001b[0m\u001b[0mnp\u001b[0m\u001b[0;34m.\u001b[0m\u001b[0msqrt\u001b[0m\u001b[0;34m(\u001b[0m\u001b[0;36m2\u001b[0m\u001b[0;34m)\u001b[0m\u001b[0;34m,\u001b[0m \u001b[0;34m**\u001b[0m\u001b[0mkwargs\u001b[0m\u001b[0;34m)\u001b[0m\u001b[0;34m)\u001b[0m\u001b[0;34m\u001b[0m\u001b[0;34m\u001b[0m\u001b[0m\n\u001b[1;32m     11\u001b[0m     \u001b[0mlayer_3\u001b[0m \u001b[0;34m=\u001b[0m \u001b[0mactiv\u001b[0m\u001b[0;34m(\u001b[0m\u001b[0mconv\u001b[0m\u001b[0;34m(\u001b[0m\u001b[0mlayer_2\u001b[0m\u001b[0;34m,\u001b[0m \u001b[0;34m'c3'\u001b[0m\u001b[0;34m,\u001b[0m \u001b[0mn_filters\u001b[0m\u001b[0;34m=\u001b[0m\u001b[0;36m64\u001b[0m\u001b[0;34m,\u001b[0m \u001b[0mfilter_size\u001b[0m\u001b[0;34m=\u001b[0m\u001b[0;36m3\u001b[0m\u001b[0;34m,\u001b[0m \u001b[0mstride\u001b[0m\u001b[0;34m=\u001b[0m\u001b[0;36m1\u001b[0m\u001b[0;34m,\u001b[0m \u001b[0minit_scale\u001b[0m\u001b[0;34m=\u001b[0m\u001b[0mnp\u001b[0m\u001b[0;34m.\u001b[0m\u001b[0msqrt\u001b[0m\u001b[0;34m(\u001b[0m\u001b[0;36m2\u001b[0m\u001b[0;34m)\u001b[0m\u001b[0;34m,\u001b[0m \u001b[0;34m**\u001b[0m\u001b[0mkwargs\u001b[0m\u001b[0;34m)\u001b[0m\u001b[0;34m)\u001b[0m\u001b[0;34m\u001b[0m\u001b[0;34m\u001b[0m\u001b[0m\n",
      "\u001b[0;32m/anaconda3/envs/otc/lib/python3.6/site-packages/stable_baselines/a2c/utils.py\u001b[0m in \u001b[0;36mconv\u001b[0;34m(input_tensor, scope, n_filters, filter_size, stride, pad, init_scale, data_format, one_dim_bias)\u001b[0m\n\u001b[1;32m    125\u001b[0m     \u001b[0mwshape\u001b[0m \u001b[0;34m=\u001b[0m \u001b[0;34m[\u001b[0m\u001b[0mfilter_size\u001b[0m\u001b[0;34m,\u001b[0m \u001b[0mfilter_size\u001b[0m\u001b[0;34m,\u001b[0m \u001b[0mn_input\u001b[0m\u001b[0;34m,\u001b[0m \u001b[0mn_filters\u001b[0m\u001b[0;34m]\u001b[0m\u001b[0;34m\u001b[0m\u001b[0;34m\u001b[0m\u001b[0m\n\u001b[1;32m    126\u001b[0m     \u001b[0;32mwith\u001b[0m \u001b[0mtf\u001b[0m\u001b[0;34m.\u001b[0m\u001b[0mvariable_scope\u001b[0m\u001b[0;34m(\u001b[0m\u001b[0mscope\u001b[0m\u001b[0;34m)\u001b[0m\u001b[0;34m:\u001b[0m\u001b[0;34m\u001b[0m\u001b[0;34m\u001b[0m\u001b[0m\n\u001b[0;32m--> 127\u001b[0;31m         \u001b[0mweight\u001b[0m \u001b[0;34m=\u001b[0m \u001b[0mtf\u001b[0m\u001b[0;34m.\u001b[0m\u001b[0mget_variable\u001b[0m\u001b[0;34m(\u001b[0m\u001b[0;34m\"w\"\u001b[0m\u001b[0;34m,\u001b[0m \u001b[0mwshape\u001b[0m\u001b[0;34m,\u001b[0m \u001b[0minitializer\u001b[0m\u001b[0;34m=\u001b[0m\u001b[0mortho_init\u001b[0m\u001b[0;34m(\u001b[0m\u001b[0minit_scale\u001b[0m\u001b[0;34m)\u001b[0m\u001b[0;34m)\u001b[0m\u001b[0;34m\u001b[0m\u001b[0;34m\u001b[0m\u001b[0m\n\u001b[0m\u001b[1;32m    128\u001b[0m         \u001b[0mbias\u001b[0m \u001b[0;34m=\u001b[0m \u001b[0mtf\u001b[0m\u001b[0;34m.\u001b[0m\u001b[0mget_variable\u001b[0m\u001b[0;34m(\u001b[0m\u001b[0;34m\"b\"\u001b[0m\u001b[0;34m,\u001b[0m \u001b[0mbias_var_shape\u001b[0m\u001b[0;34m,\u001b[0m \u001b[0minitializer\u001b[0m\u001b[0;34m=\u001b[0m\u001b[0mtf\u001b[0m\u001b[0;34m.\u001b[0m\u001b[0mconstant_initializer\u001b[0m\u001b[0;34m(\u001b[0m\u001b[0;36m0.0\u001b[0m\u001b[0;34m)\u001b[0m\u001b[0;34m)\u001b[0m\u001b[0;34m\u001b[0m\u001b[0;34m\u001b[0m\u001b[0m\n\u001b[1;32m    129\u001b[0m         \u001b[0;32mif\u001b[0m \u001b[0;32mnot\u001b[0m \u001b[0mone_dim_bias\u001b[0m \u001b[0;32mand\u001b[0m \u001b[0mdata_format\u001b[0m \u001b[0;34m==\u001b[0m \u001b[0;34m'NHWC'\u001b[0m\u001b[0;34m:\u001b[0m\u001b[0;34m\u001b[0m\u001b[0;34m\u001b[0m\u001b[0m\n",
      "\u001b[0;32m/anaconda3/envs/otc/lib/python3.6/site-packages/tensorflow/python/ops/variable_scope.py\u001b[0m in \u001b[0;36mget_variable\u001b[0;34m(name, shape, dtype, initializer, regularizer, trainable, collections, caching_device, partitioner, validate_shape, use_resource, custom_getter, constraint, synchronization, aggregation)\u001b[0m\n\u001b[1;32m   1485\u001b[0m       \u001b[0mconstraint\u001b[0m\u001b[0;34m=\u001b[0m\u001b[0mconstraint\u001b[0m\u001b[0;34m,\u001b[0m\u001b[0;34m\u001b[0m\u001b[0;34m\u001b[0m\u001b[0m\n\u001b[1;32m   1486\u001b[0m       \u001b[0msynchronization\u001b[0m\u001b[0;34m=\u001b[0m\u001b[0msynchronization\u001b[0m\u001b[0;34m,\u001b[0m\u001b[0;34m\u001b[0m\u001b[0;34m\u001b[0m\u001b[0m\n\u001b[0;32m-> 1487\u001b[0;31m       aggregation=aggregation)\n\u001b[0m\u001b[1;32m   1488\u001b[0m \u001b[0;34m\u001b[0m\u001b[0m\n\u001b[1;32m   1489\u001b[0m \u001b[0;34m\u001b[0m\u001b[0m\n",
      "\u001b[0;32m/anaconda3/envs/otc/lib/python3.6/site-packages/tensorflow/python/ops/variable_scope.py\u001b[0m in \u001b[0;36mget_variable\u001b[0;34m(self, var_store, name, shape, dtype, initializer, regularizer, reuse, trainable, collections, caching_device, partitioner, validate_shape, use_resource, custom_getter, constraint, synchronization, aggregation)\u001b[0m\n\u001b[1;32m   1235\u001b[0m           \u001b[0mconstraint\u001b[0m\u001b[0;34m=\u001b[0m\u001b[0mconstraint\u001b[0m\u001b[0;34m,\u001b[0m\u001b[0;34m\u001b[0m\u001b[0;34m\u001b[0m\u001b[0m\n\u001b[1;32m   1236\u001b[0m           \u001b[0msynchronization\u001b[0m\u001b[0;34m=\u001b[0m\u001b[0msynchronization\u001b[0m\u001b[0;34m,\u001b[0m\u001b[0;34m\u001b[0m\u001b[0;34m\u001b[0m\u001b[0m\n\u001b[0;32m-> 1237\u001b[0;31m           aggregation=aggregation)\n\u001b[0m\u001b[1;32m   1238\u001b[0m \u001b[0;34m\u001b[0m\u001b[0m\n\u001b[1;32m   1239\u001b[0m   def _get_partitioned_variable(self,\n",
      "\u001b[0;32m/anaconda3/envs/otc/lib/python3.6/site-packages/tensorflow/python/ops/variable_scope.py\u001b[0m in \u001b[0;36mget_variable\u001b[0;34m(self, name, shape, dtype, initializer, regularizer, reuse, trainable, collections, caching_device, partitioner, validate_shape, use_resource, custom_getter, constraint, synchronization, aggregation)\u001b[0m\n\u001b[1;32m    538\u001b[0m           \u001b[0mconstraint\u001b[0m\u001b[0;34m=\u001b[0m\u001b[0mconstraint\u001b[0m\u001b[0;34m,\u001b[0m\u001b[0;34m\u001b[0m\u001b[0;34m\u001b[0m\u001b[0m\n\u001b[1;32m    539\u001b[0m           \u001b[0msynchronization\u001b[0m\u001b[0;34m=\u001b[0m\u001b[0msynchronization\u001b[0m\u001b[0;34m,\u001b[0m\u001b[0;34m\u001b[0m\u001b[0;34m\u001b[0m\u001b[0m\n\u001b[0;32m--> 540\u001b[0;31m           aggregation=aggregation)\n\u001b[0m\u001b[1;32m    541\u001b[0m \u001b[0;34m\u001b[0m\u001b[0m\n\u001b[1;32m    542\u001b[0m   def _get_partitioned_variable(self,\n",
      "\u001b[0;32m/anaconda3/envs/otc/lib/python3.6/site-packages/tensorflow/python/ops/variable_scope.py\u001b[0m in \u001b[0;36m_true_getter\u001b[0;34m(name, shape, dtype, initializer, regularizer, reuse, trainable, collections, caching_device, partitioner, validate_shape, use_resource, constraint, synchronization, aggregation)\u001b[0m\n\u001b[1;32m    490\u001b[0m           \u001b[0mconstraint\u001b[0m\u001b[0;34m=\u001b[0m\u001b[0mconstraint\u001b[0m\u001b[0;34m,\u001b[0m\u001b[0;34m\u001b[0m\u001b[0;34m\u001b[0m\u001b[0m\n\u001b[1;32m    491\u001b[0m           \u001b[0msynchronization\u001b[0m\u001b[0;34m=\u001b[0m\u001b[0msynchronization\u001b[0m\u001b[0;34m,\u001b[0m\u001b[0;34m\u001b[0m\u001b[0;34m\u001b[0m\u001b[0m\n\u001b[0;32m--> 492\u001b[0;31m           aggregation=aggregation)\n\u001b[0m\u001b[1;32m    493\u001b[0m \u001b[0;34m\u001b[0m\u001b[0m\n\u001b[1;32m    494\u001b[0m     \u001b[0;31m# Set trainable value based on synchronization value.\u001b[0m\u001b[0;34m\u001b[0m\u001b[0;34m\u001b[0m\u001b[0;34m\u001b[0m\u001b[0m\n",
      "\u001b[0;32m/anaconda3/envs/otc/lib/python3.6/site-packages/tensorflow/python/ops/variable_scope.py\u001b[0m in \u001b[0;36m_get_single_variable\u001b[0;34m(self, name, shape, dtype, initializer, regularizer, partition_info, reuse, trainable, collections, caching_device, validate_shape, use_resource, constraint, synchronization, aggregation)\u001b[0m\n\u001b[1;32m    859\u001b[0m                          \u001b[0;34m\"reuse=tf.AUTO_REUSE in VarScope? \"\u001b[0m\u001b[0;34m\u001b[0m\u001b[0;34m\u001b[0m\u001b[0m\n\u001b[1;32m    860\u001b[0m                          \"Originally defined at:\\n\\n%s\" % (\n\u001b[0;32m--> 861\u001b[0;31m                              name, \"\".join(traceback.format_list(tb))))\n\u001b[0m\u001b[1;32m    862\u001b[0m       \u001b[0mfound_var\u001b[0m \u001b[0;34m=\u001b[0m \u001b[0mself\u001b[0m\u001b[0;34m.\u001b[0m\u001b[0m_vars\u001b[0m\u001b[0;34m[\u001b[0m\u001b[0mname\u001b[0m\u001b[0;34m]\u001b[0m\u001b[0;34m\u001b[0m\u001b[0;34m\u001b[0m\u001b[0m\n\u001b[1;32m    863\u001b[0m       \u001b[0;32mif\u001b[0m \u001b[0;32mnot\u001b[0m \u001b[0mshape\u001b[0m\u001b[0;34m.\u001b[0m\u001b[0mis_compatible_with\u001b[0m\u001b[0;34m(\u001b[0m\u001b[0mfound_var\u001b[0m\u001b[0;34m.\u001b[0m\u001b[0mget_shape\u001b[0m\u001b[0;34m(\u001b[0m\u001b[0;34m)\u001b[0m\u001b[0;34m)\u001b[0m\u001b[0;34m:\u001b[0m\u001b[0;34m\u001b[0m\u001b[0;34m\u001b[0m\u001b[0m\n",
      "\u001b[0;31mValueError\u001b[0m: Variable c1/w already exists, disallowed. Did you mean to set reuse=True or reuse=tf.AUTO_REUSE in VarScope? Originally defined at:\n\n  File \"/anaconda3/envs/otc/lib/python3.6/site-packages/stable_baselines/a2c/utils.py\", line 127, in conv\n    weight = tf.get_variable(\"w\", wshape, initializer=ortho_init(init_scale))\n  File \"<ipython-input-12-50c6e1640ddc>\", line 3, in <module>\n    layer_1 = activ(conv(obs_tensor, 'c1', n_filters=32, filter_size=8, stride=4, init_scale=np.sqrt(2)))\n  File \"/anaconda3/envs/otc/lib/python3.6/site-packages/IPython/core/interactiveshell.py\", line 3296, in run_code\n    exec(code_obj, self.user_global_ns, self.user_ns)\n"
     ]
    }
   ],
   "source": [
    "with tf.Session() as sess:\n",
    "    sess.run(nature_cnn(obs_tensor), feed_dict={obs_tensor:inp})"
   ]
  },
  {
   "cell_type": "code",
   "execution_count": null,
   "metadata": {},
   "outputs": [],
   "source": []
  },
  {
   "cell_type": "code",
   "execution_count": null,
   "metadata": {},
   "outputs": [],
   "source": []
  },
  {
   "cell_type": "code",
   "execution_count": null,
   "metadata": {},
   "outputs": [],
   "source": []
  },
  {
   "cell_type": "code",
   "execution_count": null,
   "metadata": {},
   "outputs": [],
   "source": []
  },
  {
   "cell_type": "code",
   "execution_count": 4,
   "metadata": {},
   "outputs": [],
   "source": [
    "env = OTCPreprocessing(env, enable_obsnorm=True, obsnorm_mode='pixel', obsnorm_period=2000)"
   ]
  },
  {
   "cell_type": "code",
   "execution_count": 5,
   "metadata": {},
   "outputs": [
    {
     "name": "stdout",
     "output_type": "stream",
     "text": [
      "(84, 84, 1)\n"
     ]
    },
    {
     "ename": "AttributeError",
     "evalue": "'NoneType' object has no attribute 'shape'",
     "output_type": "error",
     "traceback": [
      "\u001b[0;31m---------------------------------------------------------------------------\u001b[0m",
      "\u001b[0;31mAttributeError\u001b[0m                            Traceback (most recent call last)",
      "\u001b[0;32m<ipython-input-5-24514c4f2fda>\u001b[0m in \u001b[0;36m<module>\u001b[0;34m\u001b[0m\n\u001b[0;32m----> 1\u001b[0;31m \u001b[0mobs\u001b[0m \u001b[0;34m=\u001b[0m \u001b[0menv\u001b[0m\u001b[0;34m.\u001b[0m\u001b[0mreset\u001b[0m\u001b[0;34m(\u001b[0m\u001b[0;34m)\u001b[0m\u001b[0;34m\u001b[0m\u001b[0;34m\u001b[0m\u001b[0m\n\u001b[0m\u001b[1;32m      2\u001b[0m \u001b[0;31m#for i in range(30):\u001b[0m\u001b[0;34m\u001b[0m\u001b[0;34m\u001b[0m\u001b[0;34m\u001b[0m\u001b[0m\n\u001b[1;32m      3\u001b[0m \u001b[0;31m#obs, reward, done, info = env.step(env.action_space.sample())\u001b[0m\u001b[0;34m\u001b[0m\u001b[0;34m\u001b[0m\u001b[0;34m\u001b[0m\u001b[0m\n",
      "\u001b[0;32m<ipython-input-2-5b969e7ad4bf>\u001b[0m in \u001b[0;36mreset\u001b[0;34m(self)\u001b[0m\n\u001b[1;32m     79\u001b[0m       \u001b[0mprint\u001b[0m\u001b[0;34m(\u001b[0m\u001b[0mobservation\u001b[0m\u001b[0;34m.\u001b[0m\u001b[0mshape\u001b[0m\u001b[0;34m)\u001b[0m\u001b[0;34m\u001b[0m\u001b[0;34m\u001b[0m\u001b[0m\n\u001b[1;32m     80\u001b[0m       \u001b[0mobservation\u001b[0m \u001b[0;34m=\u001b[0m \u001b[0mself\u001b[0m\u001b[0;34m.\u001b[0m\u001b[0mnormalize_observation\u001b[0m\u001b[0;34m(\u001b[0m\u001b[0mobservation\u001b[0m\u001b[0;34m,\u001b[0m \u001b[0mself\u001b[0m\u001b[0;34m.\u001b[0m\u001b[0mobsnorm_mode\u001b[0m\u001b[0;34m,\u001b[0m \u001b[0mself\u001b[0m\u001b[0;34m.\u001b[0m\u001b[0mobsnorm_period\u001b[0m\u001b[0;34m)\u001b[0m\u001b[0;34m\u001b[0m\u001b[0;34m\u001b[0m\u001b[0m\n\u001b[0;32m---> 81\u001b[0;31m       \u001b[0mprint\u001b[0m\u001b[0;34m(\u001b[0m\u001b[0mobservation\u001b[0m\u001b[0;34m.\u001b[0m\u001b[0mshape\u001b[0m\u001b[0;34m)\u001b[0m\u001b[0;34m\u001b[0m\u001b[0;34m\u001b[0m\u001b[0m\n\u001b[0m\u001b[1;32m     82\u001b[0m     \u001b[0;32mreturn\u001b[0m \u001b[0mobservation\u001b[0m\u001b[0;34m\u001b[0m\u001b[0;34m\u001b[0m\u001b[0m\n\u001b[1;32m     83\u001b[0m \u001b[0;34m\u001b[0m\u001b[0m\n",
      "\u001b[0;31mAttributeError\u001b[0m: 'NoneType' object has no attribute 'shape'"
     ]
    }
   ],
   "source": [
    "obs = env.reset()\n",
    "#for i in range(30):\n",
    "#obs, reward, done, info = env.step(env.action_space.sample())"
   ]
  },
  {
   "cell_type": "code",
   "execution_count": 6,
   "metadata": {},
   "outputs": [
    {
     "ename": "NameError",
     "evalue": "name 'obs' is not defined",
     "output_type": "error",
     "traceback": [
      "\u001b[0;31m---------------------------------------------------------------------------\u001b[0m",
      "\u001b[0;31mNameError\u001b[0m                                 Traceback (most recent call last)",
      "\u001b[0;32m<ipython-input-6-5136a989c5e6>\u001b[0m in \u001b[0;36m<module>\u001b[0;34m\u001b[0m\n\u001b[0;32m----> 1\u001b[0;31m \u001b[0mobs\u001b[0m\u001b[0;34m.\u001b[0m\u001b[0mshape\u001b[0m\u001b[0;34m\u001b[0m\u001b[0;34m\u001b[0m\u001b[0m\n\u001b[0m",
      "\u001b[0;31mNameError\u001b[0m: name 'obs' is not defined"
     ]
    }
   ],
   "source": [
    "obs.shape"
   ]
  },
  {
   "cell_type": "code",
   "execution_count": 6,
   "metadata": {},
   "outputs": [],
   "source": [
    "rs_obs = np.expand_dims(obs, 0) / 255."
   ]
  },
  {
   "cell_type": "code",
   "execution_count": 7,
   "metadata": {},
   "outputs": [],
   "source": [
    "batch = rs_obs.copy()\n",
    "for i in range(31):\n",
    "    new = rs_obs + np.random.random(rs_obs.shape)\n",
    "    batch = np.append(batch, new, axis=0)\n",
    "batch = np.append(batch, batch, axis=3)"
   ]
  },
  {
   "cell_type": "code",
   "execution_count": 31,
   "metadata": {},
   "outputs": [
    {
     "data": {
      "text/plain": [
       "(32, 84, 84, 2)"
      ]
     },
     "execution_count": 31,
     "metadata": {},
     "output_type": "execute_result"
    }
   ],
   "source": [
    "batch.shape"
   ]
  },
  {
   "cell_type": "code",
   "execution_count": 47,
   "metadata": {},
   "outputs": [],
   "source": [
    "obs1 = obs.copy() / 255.\n",
    "running_pixel_mean = np.random.random(env.observation_space.shape)"
   ]
  },
  {
   "cell_type": "code",
   "execution_count": 48,
   "metadata": {},
   "outputs": [],
   "source": [
    "obs2 = (running_pixel_mean + obs1) * 1/2"
   ]
  },
  {
   "cell_type": "code",
   "execution_count": 57,
   "metadata": {},
   "outputs": [
    {
     "data": {
      "text/plain": [
       "(84, 84, 1)"
      ]
     },
     "execution_count": 57,
     "metadata": {},
     "output_type": "execute_result"
    }
   ],
   "source": [
    "obs2 = ((running_pixel_mean * 1) + obs1) / 2\n",
    "obs2.shape"
   ]
  },
  {
   "cell_type": "code",
   "execution_count": 68,
   "metadata": {},
   "outputs": [],
   "source": [
    "b = np.append(obs1, obs2, axis=2)"
   ]
  },
  {
   "cell_type": "code",
   "execution_count": 91,
   "metadata": {},
   "outputs": [],
   "source": [
    "c = b.mean(axis=2, keepdims=True)"
   ]
  },
  {
   "cell_type": "code",
   "execution_count": 86,
   "metadata": {},
   "outputs": [],
   "source": [
    "d = obs2 - np.expand_dims(c, 2)"
   ]
  },
  {
   "cell_type": "code",
   "execution_count": 93,
   "metadata": {},
   "outputs": [
    {
     "data": {
      "text/plain": [
       "(-0.22925243029971729, 0.22925243029971737)"
      ]
     },
     "execution_count": 93,
     "metadata": {},
     "output_type": "execute_result"
    }
   ],
   "source": [
    "d.mean()-obs2.mean(), c.mean()"
   ]
  },
  {
   "cell_type": "code",
   "execution_count": 109,
   "metadata": {},
   "outputs": [
    {
     "data": {
      "text/plain": [
       "(84, 84, 1)"
      ]
     },
     "execution_count": 109,
     "metadata": {},
     "output_type": "execute_result"
    }
   ],
   "source": [
    "b[:, :, -1:].shape"
   ]
  },
  {
   "cell_type": "code",
   "execution_count": 103,
   "metadata": {},
   "outputs": [
    {
     "data": {
      "text/plain": [
       "(0.22925243029971737, 0.15902233627298448)"
      ]
     },
     "execution_count": 103,
     "metadata": {},
     "output_type": "execute_result"
    }
   ],
   "source": [
    "b.mean(), b.std()"
   ]
  },
  {
   "cell_type": "code",
   "execution_count": null,
   "metadata": {},
   "outputs": [],
   "source": []
  },
  {
   "cell_type": "code",
   "execution_count": 10,
   "metadata": {},
   "outputs": [],
   "source": [
    "inputs = batch.copy() * 10000"
   ]
  },
  {
   "cell_type": "code",
   "execution_count": 11,
   "metadata": {},
   "outputs": [
    {
     "name": "stderr",
     "output_type": "stream",
     "text": [
      "WARNING:tensorflow:From <ipython-input-11-68e9fa1e3c9b>:40: mean_squared_error (from tensorflow.contrib.losses.python.losses.loss_ops) is deprecated and will be removed after 2016-12-30.\n",
      "Instructions for updating:\n",
      "Use tf.losses.mean_squared_error instead.\n",
      "WARNING:tensorflow:From /anaconda3/envs/otc/lib/python3.6/site-packages/tensorflow/contrib/losses/python/losses/loss_ops.py:543: compute_weighted_loss (from tensorflow.contrib.losses.python.losses.loss_ops) is deprecated and will be removed after 2016-12-30.\n",
      "Instructions for updating:\n",
      "Use tf.losses.compute_weighted_loss instead.\n",
      "WARNING:tensorflow:From /anaconda3/envs/otc/lib/python3.6/site-packages/tensorflow/contrib/losses/python/losses/loss_ops.py:147: add_arg_scope.<locals>.func_with_args (from tensorflow.contrib.losses.python.losses.loss_ops) is deprecated and will be removed after 2016-12-30.\n",
      "Instructions for updating:\n",
      "Use tf.losses.add_loss instead.\n"
     ]
    }
   ],
   "source": [
    "slim = tf.contrib.slim\n",
    "tf.reset_default_graph()\n",
    "sess = tf.Session()\n",
    "\n",
    "def reduce_std(x, axis=None, keepdims=False):\n",
    "    return tf.sqrt(reduce_var(x, axis=axis, keepdims=keepdims))\n",
    "\n",
    "def mymodel(inputs):\n",
    "    net = tf.cast(inputs, tf.float32)\n",
    "    net = tf.div(net, 255.)\n",
    "    net = slim.conv2d(net, 32, [8, 8], stride=4, trainable=False)\n",
    "    net = slim.conv2d(net, 64, [4, 4], stride=2, trainable=False)\n",
    "    net = slim.conv2d(net, 64, [3, 3], stride=1, trainable=False)\n",
    "    net = slim.flatten(net)\n",
    "    net = slim.fully_connected(net, 512, trainable=False)\n",
    "    q_values = slim.fully_connected(net, 54, activation_fn=None, trainable=False)\n",
    "    return q_values\n",
    "\n",
    "def pred(inputs):\n",
    "    net = tf.cast(inputs, tf.float32)\n",
    "    net = tf.div(net, 255.)\n",
    "    net = slim.conv2d(net, 32, [8, 8], stride=4, trainable=True)\n",
    "    net = slim.conv2d(net, 64, [4, 4], stride=2, trainable=True)\n",
    "    net = slim.conv2d(net, 64, [3, 3], stride=1, trainable=True)\n",
    "    net = slim.flatten(net)\n",
    "    net = slim.fully_connected(net, 512, trainable=True)\n",
    "    q_values = slim.fully_connected(net, 54, activation_fn=None, trainable=True)\n",
    "    return q_values\n",
    "\n",
    "\n",
    "data = tf.placeholder(\"float\", shape=batch.shape)\n",
    "results = mymodel(data)\n",
    "old_data = tf.placeholder(\"float\", shape=batch.shape)\n",
    "predicts = pred(old_data)\n",
    "\n",
    "\n",
    "loss = tf.squared_difference(results, predicts)\n",
    "loss = tf.reduce_sum(loss, axis=1)\n",
    "#normalized_loss = tf.divide(loss, reduce_std(loss))\n",
    "total_loss = slim.losses.mean_squared_error(results, predicts)\n",
    "\n",
    "\n",
    "train_op = tf.train.AdamOptimizer(.00025).minimize(total_loss)\n",
    "\n",
    "sess.run(tf.global_variables_initializer())\n",
    "#rnd_train_op = slim.learning.create_train_op(total_loss, optimizer)"
   ]
  },
  {
   "cell_type": "code",
   "execution_count": 12,
   "metadata": {},
   "outputs": [
    {
     "data": {
      "text/plain": [
       "95.516884"
      ]
     },
     "execution_count": 12,
     "metadata": {},
     "output_type": "execute_result"
    }
   ],
   "source": [
    "sess.run(tf.sqrt(tf.nn.moments(loss, 0)[1]), feed_dict={data:inputs, old_data:batch})"
   ]
  },
  {
   "cell_type": "code",
   "execution_count": 13,
   "metadata": {},
   "outputs": [
    {
     "data": {
      "text/plain": [
       "37.62854183521793"
      ]
     },
     "execution_count": 13,
     "metadata": {},
     "output_type": "execute_result"
    }
   ],
   "source": [
    "import numpy as np\n",
    "np.array([ 13.25101, 134.9473 , 207.69507, 161.99585, 150.17528, 171.86179,\n",
    "       193.0722 , 175.1009 , 160.06993, 207.2973 , 157.3675 , 193.9255 ,\n",
    "       163.84152, 147.51643, 212.81459, 228.50793, 171.9607 , 140.81902,\n",
    "       201.49759, 194.96815, 166.89749, 186.54922, 152.3136 , 195.69202,\n",
    "       162.11737, 216.28683, 172.25737, 184.89424, 192.1009 , 198.09305,\n",
    "       175.78708, 127.85109]).std()"
   ]
  },
  {
   "cell_type": "code",
   "execution_count": null,
   "metadata": {},
   "outputs": [],
   "source": []
  },
  {
   "cell_type": "code",
   "execution_count": 12,
   "metadata": {},
   "outputs": [],
   "source": [
    "for i in range(100):\n",
    "    sess.run(train_op, feed_dict={data:inputs, old_data:batch})"
   ]
  },
  {
   "cell_type": "code",
   "execution_count": 14,
   "metadata": {},
   "outputs": [
    {
     "data": {
      "text/plain": [
       "array([[-0.0878039 ,  0.72196597, -0.690385  , ..., -0.16994649,\n",
       "        -1.1732842 , -0.44626325],\n",
       "       [-1.3635473 ,  0.6443021 , -1.9300433 , ..., -0.86984766,\n",
       "        -5.4135914 , -1.2137287 ],\n",
       "       [-0.15769506,  2.685185  , -0.22919285, ..., -1.4306363 ,\n",
       "        -5.560427  , -1.2545491 ],\n",
       "       ...,\n",
       "       [ 3.0219128 ,  4.3628826 , -1.284682  , ..., -1.9630249 ,\n",
       "        -5.086002  , -0.81472445],\n",
       "       [ 1.7828431 ,  3.35549   , -2.0639133 , ..., -1.720954  ,\n",
       "        -4.549235  , -2.4855556 ],\n",
       "       [ 1.1518321 ,  2.3979094 , -1.5885028 , ..., -1.2036123 ,\n",
       "        -6.4058657 , -1.6052418 ]], dtype=float32)"
      ]
     },
     "execution_count": 14,
     "metadata": {},
     "output_type": "execute_result"
    }
   ],
   "source": [
    "sess.run(results, feed_dict={data:inputs})"
   ]
  },
  {
   "cell_type": "code",
   "execution_count": 15,
   "metadata": {},
   "outputs": [
    {
     "data": {
      "text/plain": [
       "array([[ 0.45723605,  2.4823058 , -1.8272264 , ..., -1.5131226 ,\n",
       "        -4.2200913 , -1.6350508 ],\n",
       "       [ 0.5357837 ,  2.9206703 , -2.1473281 , ..., -1.7822204 ,\n",
       "        -4.962805  , -1.9234298 ],\n",
       "       [ 0.5373709 ,  2.9293168 , -2.1526825 , ..., -1.7867126 ,\n",
       "        -4.976461  , -1.9288226 ],\n",
       "       ...,\n",
       "       [ 0.5371451 ,  2.9250188 , -2.150078  , ..., -1.7846568 ,\n",
       "        -4.9700384 , -1.926426  ],\n",
       "       [ 0.5372966 ,  2.9284432 , -2.1526666 , ..., -1.7866135 ,\n",
       "        -4.9757147 , -1.9284141 ],\n",
       "       [ 0.53670824,  2.9275217 , -2.1519058 , ..., -1.7868333 ,\n",
       "        -4.9745135 , -1.927914  ]], dtype=float32)"
      ]
     },
     "execution_count": 15,
     "metadata": {},
     "output_type": "execute_result"
    }
   ],
   "source": [
    "sess.run(predicts, feed_dict={old_data:batch})"
   ]
  },
  {
   "cell_type": "code",
   "execution_count": 16,
   "metadata": {},
   "outputs": [
    {
     "data": {
      "text/plain": [
       "1.1545346"
      ]
     },
     "execution_count": 16,
     "metadata": {},
     "output_type": "execute_result"
    }
   ],
   "source": [
    "sess.run(total_loss, feed_dict={data:inputs, old_data:batch})"
   ]
  },
  {
   "cell_type": "code",
   "execution_count": 24,
   "metadata": {},
   "outputs": [
    {
     "data": {
      "text/plain": [
       "<tf.Tensor 'random_uniform_5:0' shape=(32,) dtype=float32>"
      ]
     },
     "execution_count": 24,
     "metadata": {},
     "output_type": "execute_result"
    }
   ],
   "source": [
    "a = tf.random.uniform(loss.shape)\n",
    "a"
   ]
  },
  {
   "cell_type": "code",
   "execution_count": 22,
   "metadata": {},
   "outputs": [
    {
     "data": {
      "text/plain": [
       "<tf.Tensor 'concat_2:0' shape=(64,) dtype=float32>"
      ]
     },
     "execution_count": 22,
     "metadata": {},
     "output_type": "execute_result"
    }
   ],
   "source": [
    "a = tf.concat([a, loss], axis=0)\n",
    "a"
   ]
  },
  {
   "cell_type": "code",
   "execution_count": 30,
   "metadata": {},
   "outputs": [
    {
     "data": {
      "text/plain": [
       "(<tf.Tensor 'moments_6/mean:0' shape=(1,) dtype=float32>,\n",
       " <tf.Tensor 'moments_6/variance:0' shape=(1,) dtype=float32>)"
      ]
     },
     "execution_count": 30,
     "metadata": {},
     "output_type": "execute_result"
    }
   ],
   "source": [
    "tf.nn.moments(a, 0, keep_dims=True)"
   ]
  },
  {
   "cell_type": "code",
   "execution_count": null,
   "metadata": {},
   "outputs": [],
   "source": []
  },
  {
   "cell_type": "code",
   "execution_count": null,
   "metadata": {},
   "outputs": [],
   "source": []
  },
  {
   "cell_type": "code",
   "execution_count": 75,
   "metadata": {},
   "outputs": [],
   "source": [
    "weights = slim.variable('weights', shape=[10, 10, 3 , 3], initializer=tf.truncated_normal_initializer(stddev=0.1))"
   ]
  },
  {
   "cell_type": "code",
   "execution_count": 80,
   "metadata": {},
   "outputs": [
    {
     "data": {
      "text/plain": [
       "[<tf.Variable 'weights:0' shape=(10, 10, 3, 3) dtype=float32_ref>]"
      ]
     },
     "execution_count": 80,
     "metadata": {},
     "output_type": "execute_result"
    }
   ],
   "source": [
    "slim.get_variables()"
   ]
  },
  {
   "cell_type": "code",
   "execution_count": 9,
   "metadata": {},
   "outputs": [
    {
     "data": {
      "text/plain": [
       "<tf.Tensor 'random_uniform:0' shape=(32, 84, 84, 2) dtype=float32>"
      ]
     },
     "execution_count": 9,
     "metadata": {},
     "output_type": "execute_result"
    }
   ],
   "source": [
    "tf.random.uniform(batch.shape)"
   ]
  },
  {
   "cell_type": "code",
   "execution_count": 20,
   "metadata": {},
   "outputs": [],
   "source": [
    "a = tf.convert_to_tensor(batch)"
   ]
  },
  {
   "cell_type": "code",
   "execution_count": 43,
   "metadata": {},
   "outputs": [],
   "source": [
    "a = tf.concat([loss, loss], axis=0)"
   ]
  },
  {
   "cell_type": "code",
   "execution_count": 46,
   "metadata": {},
   "outputs": [
    {
     "data": {
      "text/plain": [
       "<tf.Tensor 'moments_3/Squeeze_1:0' shape=() dtype=float32>"
      ]
     },
     "execution_count": 46,
     "metadata": {},
     "output_type": "execute_result"
    }
   ],
   "source": [
    "tf.nn.moments(a, 0)[1]"
   ]
  },
  {
   "cell_type": "code",
   "execution_count": null,
   "metadata": {},
   "outputs": [],
   "source": []
  },
  {
   "cell_type": "code",
   "execution_count": 113,
   "metadata": {},
   "outputs": [
    {
     "data": {
      "text/plain": [
       "0.16616627445598744"
      ]
     },
     "execution_count": 113,
     "metadata": {},
     "output_type": "execute_result"
    }
   ],
   "source": [
    "state = np.random.rand(84, 84, 1)\n",
    "state2 = np.random.rand(84, 84, 1)\n",
    "((state - state2)**2).mean()"
   ]
  },
  {
   "cell_type": "code",
   "execution_count": 103,
   "metadata": {},
   "outputs": [
    {
     "data": {
      "text/plain": [
       "(1, 84, 84, 1)"
      ]
     },
     "execution_count": 103,
     "metadata": {},
     "output_type": "execute_result"
    }
   ],
   "source": [
    "state.reshape(1,84,84,1).shape"
   ]
  },
  {
   "cell_type": "code",
   "execution_count": 116,
   "metadata": {},
   "outputs": [],
   "source": [
    "state = np.random.rand(84, 84, 1)\n",
    "state3 = np.expand_dims(state, 0)"
   ]
  },
  {
   "cell_type": "code",
   "execution_count": 1,
   "metadata": {},
   "outputs": [
    {
     "name": "stderr",
     "output_type": "stream",
     "text": [
      "Using TensorFlow backend.\n"
     ]
    }
   ],
   "source": [
    "import time\n",
    "import numpy as np\n",
    "import tensorflow as tf\n",
    "from keras.models import Sequential\n",
    "from keras.layers import Dense, Conv2D, Flatten\n",
    "\n",
    "from keras import backend as K\n",
    "num_cores=6\n",
    "config = tf.ConfigProto(intra_op_parallelism_threads=num_cores,\n",
    "                        inter_op_parallelism_threads=num_cores, \n",
    "                        allow_soft_placement=True,\n",
    "                        device_count = {'CPU' : 1,\n",
    "                                        'GPU' : 0}\n",
    "                       )\n",
    "\n",
    "session = tf.Session(config=config)\n",
    "K.set_session(session)"
   ]
  },
  {
   "cell_type": "code",
   "execution_count": 2,
   "metadata": {},
   "outputs": [],
   "source": [
    "def double(x):\n",
    "    return np.append(x, x, axis=0)"
   ]
  },
  {
   "cell_type": "code",
   "execution_count": 27,
   "metadata": {},
   "outputs": [],
   "source": [
    "model = Sequential()\n",
    "model.add(Conv2D(32, kernel_size=8, activation='relu', input_shape=(84, 84, 1)))\n",
    "model.add(Conv2D(64, kernel_size=4, activation='relu'))\n",
    "model.add(Conv2D(64, kernel_size=3, activation='relu'))\n",
    "model.add(Flatten())\n",
    "model.add(Dense(512, activation='relu'))\n",
    "model.add(Dense(256, activation=None))\n",
    "model.trainable = False\n",
    "model.compile(optimizer='adam', loss='mean_squared_error', metrics=['accuracy'])\n",
    "model.build()"
   ]
  },
  {
   "cell_type": "code",
   "execution_count": 32,
   "metadata": {},
   "outputs": [],
   "source": [
    "model2 = Sequential()\n",
    "model2.add(Conv2D(32, kernel_size=8, activation='relu', input_shape=(84, 84, 1)))\n",
    "model2.add(Conv2D(64, kernel_size=4, activation='relu'))\n",
    "model2.add(Conv2D(64, kernel_size=3, activation='relu'))\n",
    "model2.add(Flatten())\n",
    "model2.add(Dense(512, activation='relu'))\n",
    "model2.add(Dense(256, activation=None))\n",
    "model2.trainable = True\n",
    "model2.compile(optimizer='adam', loss='mean_squared_error', metrics=['accuracy'])\n",
    "model2.build()"
   ]
  },
  {
   "cell_type": "code",
   "execution_count": 33,
   "metadata": {},
   "outputs": [
    {
     "name": "stdout",
     "output_type": "stream",
     "text": [
      "Step 0 loss: 0.004082861\n",
      "Step 1 loss: 0.9525634\n",
      "Step 2 loss: 0.12549347\n",
      "Step 3 loss: 0.02464965\n",
      "Step 4 loss: 0.011145618\n",
      "Step 5 loss: 0.0038855239\n",
      "Step 6 loss: 0.0018866786\n",
      "Step 7 loss: 0.0014667927\n",
      "Step 8 loss: 0.0014160266\n",
      "Step 9 loss: 0.0014431834\n",
      "Step 10 loss: 0.0014759914\n",
      "Step 11 loss: 0.0014848739\n",
      "Step 12 loss: 0.0014735074\n",
      "Step 13 loss: 0.0014418443\n",
      "Step 14 loss: 0.0013747422\n",
      "Step 15 loss: 0.0012298122\n",
      "Step 16 loss: 0.0009773783\n",
      "Step 17 loss: 0.001303206\n",
      "Step 18 loss: 0.00077321246\n",
      "Step 19 loss: 0.00085658533\n",
      "Step 20 loss: 0.00088277576\n",
      "Step 21 loss: 0.00076957664\n",
      "Step 22 loss: 0.0006126433\n",
      "Step 23 loss: 0.00054865226\n",
      "Step 24 loss: 0.00036767896\n",
      "Step 25 loss: 0.00031136564\n",
      "Step 26 loss: 0.00026284694\n",
      "Step 27 loss: 0.00023077014\n",
      "Step 28 loss: 0.00018559239\n",
      "Step 29 loss: 0.00013878476\n",
      "Step 30 loss: 0.00011602624\n",
      "Step 31 loss: 8.661903e-05\n",
      "Step 32 loss: 7.0762326e-05\n",
      "Step 33 loss: 5.4806183e-05\n",
      "Step 34 loss: 4.54717e-05\n",
      "Step 35 loss: 3.9054463e-05\n",
      "Step 36 loss: 3.2079635e-05\n",
      "Step 37 loss: 3.268998e-05\n",
      "Step 38 loss: 3.0221403e-05\n",
      "Step 39 loss: 2.7515958e-05\n",
      "60.19772911071777\n"
     ]
    }
   ],
   "source": [
    "state = np.random.rand(84, 84, 1)\n",
    "state = np.expand_dims(state, 0)\n",
    "target = model.predict(state)\n",
    "\n",
    "start = time.time()\n",
    "for i in range(40):\n",
    "    pred = model2.predict(state)\n",
    "    print(\"Step\", i, \"loss:\", ((target - pred)**2).mean())\n",
    "    model2.fit(state, target, batch_size=1, verbose=0)\n",
    "    \n",
    "print(time.time() - start)"
   ]
  },
  {
   "cell_type": "code",
   "execution_count": 34,
   "metadata": {},
   "outputs": [],
   "source": [
    "model2 = Sequential()\n",
    "model2.add(Conv2D(32, kernel_size=8, activation='relu', input_shape=(84, 84, 1)))\n",
    "model2.add(Conv2D(64, kernel_size=4, activation='relu'))\n",
    "model2.add(Conv2D(64, kernel_size=3, activation='relu'))\n",
    "model2.add(Flatten())\n",
    "model2.add(Dense(512, activation='relu'))\n",
    "model2.add(Dense(256, activation=None))\n",
    "model2.trainable = True\n",
    "model2.compile(optimizer='adam', loss='mean_squared_error', metrics=['accuracy'])\n",
    "model2.build()"
   ]
  },
  {
   "cell_type": "code",
   "execution_count": 35,
   "metadata": {},
   "outputs": [
    {
     "name": "stdout",
     "output_type": "stream",
     "text": [
      "Step 0 loss: 0.005433338\n",
      "Step 1 loss: 0.0016783832\n",
      "Step 2 loss: 0.0016416372\n",
      "Step 3 loss: 0.0013941337\n",
      "Step 4 loss: 0.00080668204\n",
      "54.930814266204834\n"
     ]
    }
   ],
   "source": [
    "\n",
    "state = np.random.rand(84, 84, 1)\n",
    "state = np.expand_dims(state, 0)\n",
    "target = model.predict(state)\n",
    "\n",
    "double_state = double(double(double(state)))\n",
    "double_target = double(double(double(target)))\n",
    "start = time.time()\n",
    "for i in range(5):\n",
    "    pred = model2.predict(state)\n",
    "    print(\"Step\", i, \"loss:\", ((target - pred)**2).mean())\n",
    "    model2.fit(double_state, double_target, batch_size=1, verbose=0)\n",
    "    \n",
    "print(time.time() - start)"
   ]
  },
  {
   "cell_type": "code",
   "execution_count": 24,
   "metadata": {},
   "outputs": [],
   "source": []
  },
  {
   "cell_type": "code",
   "execution_count": 8,
   "metadata": {},
   "outputs": [],
   "source": [
    "state = np.random.rand(84, 84, 1)"
   ]
  },
  {
   "cell_type": "code",
   "execution_count": 10,
   "metadata": {},
   "outputs": [
    {
     "data": {
      "text/plain": [
       "(32, 84, 84, 1)"
      ]
     },
     "execution_count": 10,
     "metadata": {},
     "output_type": "execute_result"
    }
   ],
   "source": [
    "np.tile(state, (32,1,1,1)).shape"
   ]
  },
  {
   "cell_type": "code",
   "execution_count": 133,
   "metadata": {},
   "outputs": [
    {
     "name": "stdout",
     "output_type": "stream",
     "text": [
      "Step 0 loss: 0.00021432253\n",
      "Step 100 loss: 0.00024450035\n",
      "Step 200 loss: 0.0002292646\n",
      "Step 300 loss: 0.00027518655\n",
      "Step 400 loss: 0.0002022305\n",
      "Step 500 loss: 0.00023443482\n",
      "Step 600 loss: 0.0003092853\n",
      "Step 700 loss: 0.0002912826\n",
      "Step 800 loss: 0.00028253673\n",
      "Step 900 loss: 0.0002549804\n",
      "Step 1000 loss: 0.00029462605\n",
      "Step 1100 loss: 0.00024895283\n",
      "Step 1200 loss: 0.00027393678\n",
      "Step 1300 loss: 0.00027812496\n",
      "Step 1400 loss: 0.00025396893\n",
      "Step 1500 loss: 0.00025443273\n",
      "Step 1600 loss: 0.00031512478\n",
      "Step 1700 loss: 0.0002876909\n",
      "Step 1800 loss: 0.00023357724\n",
      "Step 1900 loss: 0.000254822\n",
      "Step 2000 loss: 0.00023101506\n",
      "Step 2100 loss: 0.00028171059\n",
      "Step 2200 loss: 0.00022405037\n",
      "Step 2300 loss: 0.00026168692\n",
      "Step 2400 loss: 0.0002694803\n",
      "Step 2500 loss: 0.00026116453\n",
      "Step 2600 loss: 0.00032874156\n",
      "Step 2700 loss: 0.0002782803\n",
      "Step 2800 loss: 0.00030647172\n",
      "Step 2900 loss: 0.00027881685\n",
      "Step 3000 loss: 0.00022830267\n",
      "Step 3100 loss: 0.00031716132\n",
      "Step 3200 loss: 0.0002510331\n",
      "Step 3300 loss: 0.0002812971\n",
      "Step 3400 loss: 0.00022672786\n",
      "Step 3500 loss: 0.00021593182\n",
      "Step 3600 loss: 0.00022050086\n",
      "Step 3700 loss: 0.00022995469\n",
      "Step 3800 loss: 0.00023209657\n",
      "Step 3900 loss: 0.00024775526\n",
      "Step 4000 loss: 0.00021848486\n",
      "Step 4100 loss: 0.0002526341\n",
      "Step 4200 loss: 0.00024027348\n",
      "Step 4300 loss: 0.000246117\n",
      "Step 4400 loss: 0.00029926345\n",
      "Step 4500 loss: 0.00024264757\n",
      "Step 4600 loss: 0.00024599477\n",
      "Step 4700 loss: 0.00023016805\n",
      "Step 4800 loss: 0.0002743748\n",
      "Step 4900 loss: 0.00018837737\n",
      "Step 5000 loss: 0.0002438389\n",
      "Step 5100 loss: 0.00027708395\n",
      "Step 5200 loss: 0.00024853804\n",
      "Step 5300 loss: 0.00026661524\n",
      "Step 5400 loss: 0.00024108124\n",
      "Step 5500 loss: 0.00031337503\n",
      "Step 5600 loss: 0.0002934787\n",
      "Step 5700 loss: 0.00023903973\n",
      "Step 5800 loss: 0.00029084037\n",
      "Step 5900 loss: 0.0002528411\n",
      "Step 6000 loss: 0.0002703677\n",
      "Step 6100 loss: 0.0002504914\n",
      "Step 6200 loss: 0.00027542375\n",
      "Step 6300 loss: 0.00032046108\n",
      "Step 6400 loss: 0.00026168866\n",
      "Step 6500 loss: 0.0003071496\n",
      "Step 6600 loss: 0.0002652994\n",
      "Step 6700 loss: 0.00024389528\n",
      "Step 6800 loss: 0.00029041682\n",
      "Step 6900 loss: 0.00031897955\n",
      "Step 7000 loss: 0.00022814886\n",
      "Step 7100 loss: 0.00028909853\n",
      "Step 7200 loss: 0.00032687644\n",
      "Step 7300 loss: 0.00029151753\n",
      "Step 7400 loss: 0.0002823879\n",
      "Step 7500 loss: 0.0002667327\n",
      "Step 7600 loss: 0.0002556135\n",
      "Step 7700 loss: 0.00022085104\n",
      "Step 7800 loss: 0.0002535577\n",
      "Step 7900 loss: 0.00026894856\n",
      "Step 8000 loss: 0.00023456011\n",
      "Step 8100 loss: 0.00028371997\n",
      "Step 8200 loss: 0.00025171647\n",
      "Step 8300 loss: 0.00026573456\n",
      "Step 8400 loss: 0.00025965273\n",
      "Step 8500 loss: 0.0002916791\n",
      "Step 8600 loss: 0.00029800562\n",
      "Step 8700 loss: 0.00026005233\n",
      "Step 8800 loss: 0.00026406447\n",
      "Step 8900 loss: 0.00029702246\n",
      "Step 9000 loss: 0.00024306872\n",
      "Step 9100 loss: 0.00022801557\n",
      "Step 9200 loss: 0.00022447293\n",
      "Step 9300 loss: 0.00025059498\n",
      "Step 9400 loss: 0.00020799458\n",
      "Step 9500 loss: 0.0002782332\n",
      "Step 9600 loss: 0.00024303244\n",
      "Step 9700 loss: 0.0001956885\n",
      "Step 9800 loss: 0.0002727782\n",
      "Step 9900 loss: 0.00028895296\n"
     ]
    }
   ],
   "source": [
    "target = model.predict(state3)\n",
    "pred = model2.predict(state3)\n",
    "\n",
    "for i in range(10000):\n",
    "    state = np.random.rand(84, 84, 1)\n",
    "    state3 = np.expand_dims(state, 0)\n",
    "    target = model.predict(state3)\n",
    "    pred = model2.predict(state3)\n",
    "    if i%100 == 0:\n",
    "        print(\"Step\", i, \"loss:\", ((target - pred)**2).mean())\n",
    "    model2.fit(state3, target, batch_size=1, verbose=0)\n",
    "    "
   ]
  },
  {
   "cell_type": "code",
   "execution_count": 127,
   "metadata": {},
   "outputs": [
    {
     "name": "stdout",
     "output_type": "stream",
     "text": [
      "Epoch 1/1\n",
      "1/1 [==============================] - 5s 5s/step - loss: 0.0040 - acc: 0.0000e+00\n"
     ]
    },
    {
     "data": {
      "text/plain": [
       "<keras.callbacks.History at 0x7fec105e8a20>"
      ]
     },
     "execution_count": 127,
     "metadata": {},
     "output_type": "execute_result"
    }
   ],
   "source": []
  },
  {
   "cell_type": "code",
   "execution_count": null,
   "metadata": {},
   "outputs": [],
   "source": [
    "loss = "
   ]
  },
  {
   "cell_type": "code",
   "execution_count": null,
   "metadata": {},
   "outputs": [],
   "source": []
  },
  {
   "cell_type": "code",
   "execution_count": null,
   "metadata": {},
   "outputs": [],
   "source": []
  },
  {
   "cell_type": "code",
   "execution_count": 13,
   "metadata": {},
   "outputs": [],
   "source": [
    "import itertools\n",
    "\n",
    "possible_vals = [range(_num) for _num in branched_action_space]\n",
    "all_actions = [list(_action) for _action in itertools.product(*possible_vals)]\n",
    "action_lookup = {_scalar: _action for (_scalar, _action) in enumerate(all_actions)}"
   ]
  },
  {
   "cell_type": "code",
   "execution_count": 16,
   "metadata": {},
   "outputs": [
    {
     "data": {
      "text/plain": [
       "Discrete(54)"
      ]
     },
     "execution_count": 16,
     "metadata": {},
     "output_type": "execute_result"
    }
   ],
   "source": [
    "Discrete(len(action_lookup))"
   ]
  },
  {
   "cell_type": "code",
   "execution_count": 17,
   "metadata": {},
   "outputs": [
    {
     "data": {
      "text/plain": [
       "[3, 3, 2, 3]"
      ]
     },
     "execution_count": 17,
     "metadata": {},
     "output_type": "execute_result"
    }
   ],
   "source": [
    "brain.vector_action_space_size"
   ]
  },
  {
   "cell_type": "code",
   "execution_count": 18,
   "metadata": {},
   "outputs": [
    {
     "data": {
      "text/plain": [
       "[2, 2, 1, 2]"
      ]
     },
     "execution_count": 18,
     "metadata": {},
     "output_type": "execute_result"
    }
   ],
   "source": [
    "action_lookup[53]"
   ]
  },
  {
   "cell_type": "code",
   "execution_count": 79,
   "metadata": {},
   "outputs": [],
   "source": [
    "obs = env.reset()\n",
    "for i in range(30):\n",
    "    obs, reward, done, info = env.step(53)\n"
   ]
  },
  {
   "cell_type": "code",
   "execution_count": null,
   "metadata": {},
   "outputs": [],
   "source": []
  },
  {
   "cell_type": "code",
   "execution_count": 7,
   "metadata": {},
   "outputs": [
    {
     "data": {
      "text/plain": [
       "['Movement Forward/Back', 'Camera', 'Jump', 'Movement Left/Right']"
      ]
     },
     "execution_count": 7,
     "metadata": {},
     "output_type": "execute_result"
    }
   ],
   "source": [
    "env.action_meanings"
   ]
  },
  {
   "cell_type": "code",
   "execution_count": 20,
   "metadata": {},
   "outputs": [
    {
     "data": {
      "text/plain": [
       "{0: [0, 0, 0, 0],\n",
       " 1: [0, 0, 0, 1],\n",
       " 2: [0, 0, 0, 2],\n",
       " 3: [0, 0, 1, 0],\n",
       " 4: [0, 0, 1, 1],\n",
       " 5: [0, 0, 1, 2],\n",
       " 6: [0, 1, 0, 0],\n",
       " 7: [0, 1, 0, 1],\n",
       " 8: [0, 1, 0, 2],\n",
       " 9: [0, 1, 1, 0],\n",
       " 10: [0, 1, 1, 1],\n",
       " 11: [0, 1, 1, 2],\n",
       " 12: [0, 2, 0, 0],\n",
       " 13: [0, 2, 0, 1],\n",
       " 14: [0, 2, 0, 2],\n",
       " 15: [0, 2, 1, 0],\n",
       " 16: [0, 2, 1, 1],\n",
       " 17: [0, 2, 1, 2],\n",
       " 18: [1, 0, 0, 0],\n",
       " 19: [1, 0, 0, 1],\n",
       " 20: [1, 0, 0, 2],\n",
       " 21: [1, 0, 1, 0],\n",
       " 22: [1, 0, 1, 1],\n",
       " 23: [1, 0, 1, 2],\n",
       " 24: [1, 1, 0, 0],\n",
       " 25: [1, 1, 0, 1],\n",
       " 26: [1, 1, 0, 2],\n",
       " 27: [1, 1, 1, 0],\n",
       " 28: [1, 1, 1, 1],\n",
       " 29: [1, 1, 1, 2],\n",
       " 30: [1, 2, 0, 0],\n",
       " 31: [1, 2, 0, 1],\n",
       " 32: [1, 2, 0, 2],\n",
       " 33: [1, 2, 1, 0],\n",
       " 34: [1, 2, 1, 1],\n",
       " 35: [1, 2, 1, 2],\n",
       " 36: [2, 0, 0, 0],\n",
       " 37: [2, 0, 0, 1],\n",
       " 38: [2, 0, 0, 2],\n",
       " 39: [2, 0, 1, 0],\n",
       " 40: [2, 0, 1, 1],\n",
       " 41: [2, 0, 1, 2],\n",
       " 42: [2, 1, 0, 0],\n",
       " 43: [2, 1, 0, 1],\n",
       " 44: [2, 1, 0, 2],\n",
       " 45: [2, 1, 1, 0],\n",
       " 46: [2, 1, 1, 1],\n",
       " 47: [2, 1, 1, 2],\n",
       " 48: [2, 2, 0, 0],\n",
       " 49: [2, 2, 0, 1],\n",
       " 50: [2, 2, 0, 2],\n",
       " 51: [2, 2, 1, 0],\n",
       " 52: [2, 2, 1, 1],\n",
       " 53: [2, 2, 1, 2]}"
      ]
     },
     "execution_count": 20,
     "metadata": {},
     "output_type": "execute_result"
    }
   ],
   "source": [
    "action_lookup"
   ]
  },
  {
   "cell_type": "code",
   "execution_count": 41,
   "metadata": {},
   "outputs": [
    {
     "data": {
      "text/plain": [
       "['__class__',\n",
       " '__delattr__',\n",
       " '__dict__',\n",
       " '__dir__',\n",
       " '__doc__',\n",
       " '__eq__',\n",
       " '__format__',\n",
       " '__ge__',\n",
       " '__getattribute__',\n",
       " '__gt__',\n",
       " '__hash__',\n",
       " '__init__',\n",
       " '__init_subclass__',\n",
       " '__le__',\n",
       " '__lt__',\n",
       " '__module__',\n",
       " '__ne__',\n",
       " '__new__',\n",
       " '__reduce__',\n",
       " '__reduce_ex__',\n",
       " '__repr__',\n",
       " '__setattr__',\n",
       " '__sizeof__',\n",
       " '__str__',\n",
       " '__subclasshook__',\n",
       " '__weakref__',\n",
       " 'brain_name',\n",
       " 'camera_resolutions',\n",
       " 'from_proto',\n",
       " 'num_stacked_vector_observations',\n",
       " 'number_visual_observations',\n",
       " 'vector_action_descriptions',\n",
       " 'vector_action_space_size',\n",
       " 'vector_action_space_type',\n",
       " 'vector_observation_space_size']"
      ]
     },
     "execution_count": 41,
     "metadata": {},
     "output_type": "execute_result"
    }
   ],
   "source": [
    "dir(brain)"
   ]
  },
  {
   "cell_type": "code",
   "execution_count": 43,
   "metadata": {},
   "outputs": [
    {
     "data": {
      "text/plain": [
       "['Movement Forward/Back', 'Camera', 'Jump', 'Movement Left/Right']"
      ]
     },
     "execution_count": 43,
     "metadata": {},
     "output_type": "execute_result"
    }
   ],
   "source": [
    "brain.vector_action_descriptions"
   ]
  },
  {
   "cell_type": "code",
   "execution_count": 44,
   "metadata": {},
   "outputs": [
    {
     "data": {
      "text/plain": [
       "[3, 3, 2, 3]"
      ]
     },
     "execution_count": 44,
     "metadata": {},
     "output_type": "execute_result"
    }
   ],
   "source": [
    "brain.vector_action_space_size"
   ]
  },
  {
   "cell_type": "code",
   "execution_count": 45,
   "metadata": {},
   "outputs": [
    {
     "data": {
      "text/plain": [
       "'discrete'"
      ]
     },
     "execution_count": 45,
     "metadata": {},
     "output_type": "execute_result"
    }
   ],
   "source": [
    "brain.vector_action_space_type"
   ]
  },
  {
   "cell_type": "code",
   "execution_count": 78,
   "metadata": {},
   "outputs": [],
   "source": [
    "brain.vector_action_space_size = [2, 2, 1, 2]"
   ]
  },
  {
   "cell_type": "code",
   "execution_count": null,
   "metadata": {},
   "outputs": [],
   "source": []
  }
 ],
 "metadata": {
  "kernelspec": {
   "display_name": "OTC",
   "language": "python",
   "name": "otc"
  },
  "language_info": {
   "codemirror_mode": {
    "name": "ipython",
    "version": 3
   },
   "file_extension": ".py",
   "mimetype": "text/x-python",
   "name": "python",
   "nbconvert_exporter": "python",
   "pygments_lexer": "ipython3",
   "version": "3.6.8"
  }
 },
 "nbformat": 4,
 "nbformat_minor": 2
}
