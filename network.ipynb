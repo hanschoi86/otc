{
 "cells": [
  {
   "cell_type": "code",
   "execution_count": 1,
   "metadata": {},
   "outputs": [],
   "source": [
    "from __future__ import absolute_import\n",
    "from __future__ import division\n",
    "from __future__ import print_function\n",
    "\n",
    "import numpy as np\n",
    "import tensorflow as tf\n",
    "slim = tf.contrib.slim\n",
    "\n",
    "def rainbow_network_deep(num_actions, num_atoms, support, network_type, state):\n",
    "  \"\"\"The convolutional network used to compute agent's Q-value distributions.\n",
    "\n",
    "  Args:\n",
    "    num_actions: int, number of actions.\n",
    "    num_atoms: int, the number of buckets of the value function distribution.\n",
    "    support: tf.linspace, the support of the Q-value distribution.\n",
    "    network_type: namedtuple, collection of expected values to return.\n",
    "    state: `tf.Tensor`, contains the agent's current state.\n",
    "\n",
    "  Returns:\n",
    "    net: _network_type object containing the tensors output by the network.\n",
    "  \"\"\"\n",
    "  weights_initializer = slim.variance_scaling_initializer(\n",
    "      factor=1.0 / np.sqrt(3.0), mode='FAN_IN', uniform=True)\n",
    "\n",
    "  net = tf.cast(state, tf.float32)\n",
    "  net = tf.div(net, 255.)\n",
    "  net = slim.conv2d(\n",
    "      net, 32, [8, 8], stride=4, weights_initializer=weights_initializer)\n",
    "  net = slim.conv2d(\n",
    "      net, 64, [4, 4], stride=2, weights_initializer=weights_initializer)\n",
    "  net = slim.conv2d(\n",
    "      net, 64, [3, 3], stride=1, weights_initializer=weights_initializer)\n",
    "  net = slim.flatten(net)\n",
    "  net = slim.fully_connected(\n",
    "      net, 512, weights_initializer=weights_initializer)\n",
    "  net = slim.fully_connected(\n",
    "      net,\n",
    "      num_actions * num_atoms,\n",
    "      activation_fn=None,\n",
    "      weights_initializer=weights_initializer)\n",
    "\n",
    "  logits = tf.reshape(net, [-1, num_actions, num_atoms])\n",
    "  probabilities = tf.contrib.layers.softmax(logits)\n",
    "  q_values = tf.reduce_sum(support * probabilities, axis=2)\n",
    "  return network_type(q_values, logits, probabilities)"
   ]
  },
  {
   "cell_type": "code",
   "execution_count": 2,
   "metadata": {},
   "outputs": [],
   "source": [
    "if 0:\n",
    "    print(\"a\")"
   ]
  },
  {
   "cell_type": "code",
   "execution_count": null,
   "metadata": {},
   "outputs": [],
   "source": []
  }
 ],
 "metadata": {
  "kernelspec": {
   "display_name": "Python 3",
   "language": "python",
   "name": "python3"
  },
  "language_info": {
   "codemirror_mode": {
    "name": "ipython",
    "version": 3
   },
   "file_extension": ".py",
   "mimetype": "text/x-python",
   "name": "python",
   "nbconvert_exporter": "python",
   "pygments_lexer": "ipython3",
   "version": "3.6.8"
  }
 },
 "nbformat": 4,
 "nbformat_minor": 2
}
